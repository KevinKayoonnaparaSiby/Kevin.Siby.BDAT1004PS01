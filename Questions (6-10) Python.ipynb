{
 "cells": [
  {
   "cell_type": "markdown",
   "id": "2532c118",
   "metadata": {},
   "source": [
    "                                                 PROBLEM SET 01"
   ]
  },
  {
   "cell_type": "markdown",
   "id": "49fe41fa",
   "metadata": {},
   "source": [
    "# Question 6 (Python)\n",
    "\n",
    "   You can turn a word into pig-Latin using the following two rules (simplified):\n",
    "   \n",
    "   • If the word starts with a consonant, move that letter to the end and append 'ay'. For example, 'happy' becomes 'appyhay'         and 'pencil' becomes 'encilpay'.\n",
    "    \n",
    "   • If the word starts with a vowel, simply append 'way' to the end of the word. For example, 'enter' becomes 'enterway' and        'other' becomes 'otherway' . For our purposes, there are 5 vowels: a, e, i, o, u (so we count y as a consonant).\n",
    "    \n",
    "   Write a function pig() that takes a word (i.e., a string) as input and returns its pig-Latin form. Your function should still    work if the input word contains upper case characters. Your output should always be lower case however.\n",
    "\n",
    "    >>> pig('happy')\n",
    "    'appyhay'\n",
    "\n",
    "    >>> pig('Enter')\n",
    "    'enterway'"
   ]
  },
  {
   "cell_type": "code",
   "execution_count": 2,
   "id": "7ad0d22c",
   "metadata": {},
   "outputs": [
    {
     "name": "stdout",
     "output_type": "stream",
     "text": [
      "Enter word: Happy\n",
      "appyhay\n"
     ]
    }
   ],
   "source": [
    "pig=input(\"Enter word: \")\n",
    "vowels = ['a','e','i','o','u']\n",
    "\n",
    "def pigLatin(pig) :\n",
    "    pigLower = pig.lower()\n",
    "    pigFirstletter = pigLower[0]\n",
    "\n",
    "    if pigFirstletter in vowels :\n",
    "        pig = pigLower+'way'\n",
    "        return pig\n",
    "    else :\n",
    "        pig = pigLower[1:]+pigLower[0]+'ay'\n",
    "        return pig\n",
    "    \n",
    "print(pigLatin(pig))"
   ]
  },
  {
   "cell_type": "code",
   "execution_count": 3,
   "id": "e661cdc6",
   "metadata": {},
   "outputs": [
    {
     "name": "stdout",
     "output_type": "stream",
     "text": [
      "Enter word: Enter\n",
      "enterway\n"
     ]
    }
   ],
   "source": [
    "pig=input(\"Enter word: \")\n",
    "vowels = ['a','e','i','o','u']\n",
    "\n",
    "def pigLatin(pig) :\n",
    "    pigLower = pig.lower()\n",
    "    pigFirstletter = pigLower[0]\n",
    "\n",
    "    if pigFirstletter in vowels :\n",
    "        pig = pigLower+'way'\n",
    "        return pig\n",
    "    else :\n",
    "        pig = pigLower[1:]+pigLower[0]+'ay'\n",
    "        return pig\n",
    "    \n",
    "print(pigLatin(pig))"
   ]
  },
  {
   "cell_type": "markdown",
   "id": "21ba0bcc",
   "metadata": {},
   "source": [
    "# Question 7 (Python)\n",
    "\n",
    "   File bloodtype1.txt records blood-types of patients (A, B, AB, O or OO) at a clinic. Write a function bldcount() that reads      the file with name name and reports (i.e., prints) how many patients there are in each bloodtype.\n",
    "\n",
    "    >>> bldcount('bloodtype.txt')\n",
    "\n",
    "   There are 10 patients of blood type A.\n",
    "\n",
    "   There is one patient of blood type B.\n",
    "\n",
    "   There are 10 patients of blood type AB.\n",
    "\n",
    "   There are 12 patients of blood type O.\n",
    "\n",
    "   There are no patients of blood type OO."
   ]
  },
  {
   "cell_type": "code",
   "execution_count": 9,
   "id": "02e42eee",
   "metadata": {},
   "outputs": [
    {
     "name": "stdout",
     "output_type": "stream",
     "text": [
      "There are 15 patients with blood type A\n",
      "There are 1 patients with blood type B\n",
      "There are 13 patients with blood type AB\n",
      "There are 15 patients with blood type O\n",
      "There are 0 patients with blood type OO\n"
     ]
    }
   ],
   "source": [
    "def bloodcount():\n",
    "    file = open(\"bloodtype1.txt\", \"r\")\n",
    "    file1 = file.read()\n",
    "    file.close()\n",
    "    groups = file1.split()\n",
    "    print(\"There are \" + str(groups.count(\"A\"))+ \" patients with blood type A\")\n",
    "    print(\"There are \" + str(groups.count(\"B\"))+ \" patients with blood type B\")\n",
    "    print(\"There are \" + str(groups.count(\"AB\"))+ \" patients with blood type AB\")\n",
    "    print(\"There are \" + str(groups.count(\"O\"))+ \" patients with blood type O\")\n",
    "    print(\"There are \" + str(groups.count(\"OO\"))+ \" patients with blood type OO\")\n",
    "    \n",
    "bloodcount()"
   ]
  },
  {
   "cell_type": "markdown",
   "id": "4d688df3",
   "metadata": {},
   "source": [
    "# Question 8 (Python)\n",
    "\n",
    "   Write a function curconv() that takes as input:\n",
    "    1. a currency represented using a string (e.g., 'JPY' for the Japanese Yen or 'EUR' for the Euro)\n",
    "    2. an amount\n",
    "   and then converts and returns the amount in US dollars.\n",
    "   \n",
    "    >>> curconv('EUR', 100)\n",
    "    122.96544\n",
    "\n",
    "    >>> curconv('JPY', 100)\n",
    "    1.241401\n",
    "\n",
    "The currency rates you will need are stored in file currencies.txt:"
   ]
  },
  {
   "cell_type": "code",
   "execution_count": 17,
   "id": "1ca27950",
   "metadata": {},
   "outputs": [
    {
     "name": "stdout",
     "output_type": "stream",
     "text": [
      "122.96544\n"
     ]
    }
   ],
   "source": [
    "def curconv(currency,amount):\n",
    "    file = open(\"currencies.txt\", \"r\")\n",
    "    file_1 = file.readlines()\n",
    "    file.close()\n",
    "    for file in file_1 :\n",
    "        group = file.split()\n",
    "        if currency == group[0]:\n",
    "            currency = float(group[1])\n",
    "            valueconv = amount * currency\n",
    "        \n",
    "    print(valueconv)   \n",
    "        \n",
    "curconv('EUR',100)"
   ]
  },
  {
   "cell_type": "code",
   "execution_count": 16,
   "id": "9ae3f242",
   "metadata": {},
   "outputs": [
    {
     "name": "stdout",
     "output_type": "stream",
     "text": [
      "1.241401\n"
     ]
    }
   ],
   "source": [
    "def curconv(currency,amount):\n",
    "    file = open(\"currencies.txt\", \"r\")\n",
    "    file_1 = file.readlines()\n",
    "    file.close()\n",
    "    for file in file_1 :\n",
    "        group = file.split()\n",
    "        if currency == group[0]:\n",
    "            currency = float(group[1])\n",
    "            valueconv = amount * currency\n",
    "        \n",
    "    print(valueconv)    \n",
    "    \n",
    "curconv('JPY',100)"
   ]
  },
  {
   "cell_type": "markdown",
   "id": "de13ca86",
   "metadata": {},
   "source": [
    "# Question 9 (Python)\n",
    "\n",
    "   Each of the following will cause an exception (an error). Identify what type of exception each will cause.\n",
    "\n",
    "    1.Trying to add incompatible variables, as in adding 6 + ‘a’\n",
    "   \n",
    "    2.Referring to the 12th item of a list that has only 10 items\n",
    "   \n",
    "    3.Using a value that is out of range for a function’s input, such as calling math.sqrt(-1.0)\n",
    "   \n",
    "    4.Using an undeclared variable, such as print(x) when x has not been defined\n",
    "   \n",
    "    5.Trying to open a file that does not exist, such as mistyping the file name or looking in the wrong directory."
   ]
  },
  {
   "cell_type": "code",
   "execution_count": 18,
   "id": "43c2794f",
   "metadata": {},
   "outputs": [
    {
     "ename": "TypeError",
     "evalue": "unsupported operand type(s) for +: 'int' and 'str'",
     "output_type": "error",
     "traceback": [
      "\u001b[1;31m---------------------------------------------------------------------------\u001b[0m",
      "\u001b[1;31mTypeError\u001b[0m                                 Traceback (most recent call last)",
      "\u001b[1;32m<ipython-input-18-9333af319f4e>\u001b[0m in \u001b[0;36m<module>\u001b[1;34m\u001b[0m\n\u001b[0;32m      1\u001b[0m \u001b[1;31m#1\u001b[0m\u001b[1;33m\u001b[0m\u001b[1;33m\u001b[0m\u001b[1;33m\u001b[0m\u001b[0m\n\u001b[1;32m----> 2\u001b[1;33m \u001b[1;36m6\u001b[0m \u001b[1;33m+\u001b[0m \u001b[1;34m'a'\u001b[0m\u001b[1;33m\u001b[0m\u001b[1;33m\u001b[0m\u001b[0m\n\u001b[0m",
      "\u001b[1;31mTypeError\u001b[0m: unsupported operand type(s) for +: 'int' and 'str'"
     ]
    }
   ],
   "source": [
    "#1\n",
    "6 + 'a'"
   ]
  },
  {
   "cell_type": "code",
   "execution_count": 19,
   "id": "79a22d8d",
   "metadata": {},
   "outputs": [
    {
     "ename": "IndexError",
     "evalue": "list index out of range",
     "output_type": "error",
     "traceback": [
      "\u001b[1;31m---------------------------------------------------------------------------\u001b[0m",
      "\u001b[1;31mIndexError\u001b[0m                                Traceback (most recent call last)",
      "\u001b[1;32m<ipython-input-19-203329eaca95>\u001b[0m in \u001b[0;36m<module>\u001b[1;34m\u001b[0m\n\u001b[0;32m      1\u001b[0m \u001b[1;31m#2\u001b[0m\u001b[1;33m\u001b[0m\u001b[1;33m\u001b[0m\u001b[1;33m\u001b[0m\u001b[0m\n\u001b[0;32m      2\u001b[0m \u001b[0mlist\u001b[0m\u001b[1;33m=\u001b[0m\u001b[1;33m[\u001b[0m\u001b[1;34m'Jan'\u001b[0m\u001b[1;33m,\u001b[0m\u001b[1;34m'Feb'\u001b[0m\u001b[1;33m,\u001b[0m \u001b[1;34m'Mar'\u001b[0m\u001b[1;33m,\u001b[0m\u001b[1;34m'Apr'\u001b[0m\u001b[1;33m,\u001b[0m\u001b[1;34m'May'\u001b[0m\u001b[1;33m,\u001b[0m\u001b[1;34m'Jun'\u001b[0m\u001b[1;33m,\u001b[0m\u001b[1;34m'Jul'\u001b[0m\u001b[1;33m,\u001b[0m\u001b[1;34m'Aug'\u001b[0m\u001b[1;33m,\u001b[0m\u001b[1;34m'Sep'\u001b[0m\u001b[1;33m,\u001b[0m\u001b[1;34m'Oct'\u001b[0m\u001b[1;33m]\u001b[0m\u001b[1;33m\u001b[0m\u001b[1;33m\u001b[0m\u001b[0m\n\u001b[1;32m----> 3\u001b[1;33m \u001b[0mprint\u001b[0m\u001b[1;33m(\u001b[0m\u001b[0mlist\u001b[0m\u001b[1;33m[\u001b[0m\u001b[1;36m12\u001b[0m\u001b[1;33m]\u001b[0m\u001b[1;33m)\u001b[0m\u001b[1;33m\u001b[0m\u001b[1;33m\u001b[0m\u001b[0m\n\u001b[0m",
      "\u001b[1;31mIndexError\u001b[0m: list index out of range"
     ]
    }
   ],
   "source": [
    "#2\n",
    "list=['Jan','Feb', 'Mar','Apr','May','Jun','Jul','Aug','Sep','Oct']\n",
    "print(list[12])"
   ]
  },
  {
   "cell_type": "code",
   "execution_count": 20,
   "id": "7959174d",
   "metadata": {},
   "outputs": [
    {
     "ename": "ValueError",
     "evalue": "math domain error",
     "output_type": "error",
     "traceback": [
      "\u001b[1;31m---------------------------------------------------------------------------\u001b[0m",
      "\u001b[1;31mValueError\u001b[0m                                Traceback (most recent call last)",
      "\u001b[1;32m<ipython-input-20-ab34d87550ec>\u001b[0m in \u001b[0;36m<module>\u001b[1;34m\u001b[0m\n\u001b[0;32m      2\u001b[0m \u001b[1;32mimport\u001b[0m \u001b[0mmath\u001b[0m\u001b[1;33m\u001b[0m\u001b[1;33m\u001b[0m\u001b[0m\n\u001b[0;32m      3\u001b[0m \u001b[1;33m\u001b[0m\u001b[0m\n\u001b[1;32m----> 4\u001b[1;33m \u001b[0mprint\u001b[0m\u001b[1;33m(\u001b[0m\u001b[0mmath\u001b[0m\u001b[1;33m.\u001b[0m\u001b[0msqrt\u001b[0m\u001b[1;33m(\u001b[0m\u001b[1;33m-\u001b[0m\u001b[1;36m1.0\u001b[0m\u001b[1;33m)\u001b[0m\u001b[1;33m)\u001b[0m\u001b[1;33m\u001b[0m\u001b[1;33m\u001b[0m\u001b[0m\n\u001b[0m",
      "\u001b[1;31mValueError\u001b[0m: math domain error"
     ]
    }
   ],
   "source": [
    "#3\n",
    "import math\n",
    "\n",
    "print(math.sqrt(-1.0))"
   ]
  },
  {
   "cell_type": "code",
   "execution_count": 21,
   "id": "d34ef8d9",
   "metadata": {},
   "outputs": [
    {
     "ename": "NameError",
     "evalue": "name 'x' is not defined",
     "output_type": "error",
     "traceback": [
      "\u001b[1;31m---------------------------------------------------------------------------\u001b[0m",
      "\u001b[1;31mNameError\u001b[0m                                 Traceback (most recent call last)",
      "\u001b[1;32m<ipython-input-21-fd9d8f90f664>\u001b[0m in \u001b[0;36m<module>\u001b[1;34m\u001b[0m\n\u001b[0;32m      1\u001b[0m \u001b[1;31m#4\u001b[0m\u001b[1;33m\u001b[0m\u001b[1;33m\u001b[0m\u001b[1;33m\u001b[0m\u001b[0m\n\u001b[1;32m----> 2\u001b[1;33m \u001b[0mprint\u001b[0m\u001b[1;33m(\u001b[0m\u001b[0mx\u001b[0m\u001b[1;33m)\u001b[0m\u001b[1;33m\u001b[0m\u001b[1;33m\u001b[0m\u001b[0m\n\u001b[0m",
      "\u001b[1;31mNameError\u001b[0m: name 'x' is not defined"
     ]
    }
   ],
   "source": [
    "#4\n",
    "print(x)"
   ]
  },
  {
   "cell_type": "code",
   "execution_count": 23,
   "id": "3e6244dc",
   "metadata": {},
   "outputs": [
    {
     "ename": "FileNotFoundError",
     "evalue": "[Errno 2] No such file or directory: 'countries.txt'",
     "output_type": "error",
     "traceback": [
      "\u001b[1;31m---------------------------------------------------------------------------\u001b[0m",
      "\u001b[1;31mFileNotFoundError\u001b[0m                         Traceback (most recent call last)",
      "\u001b[1;32m<ipython-input-23-526c6076fcb9>\u001b[0m in \u001b[0;36m<module>\u001b[1;34m\u001b[0m\n\u001b[0;32m      1\u001b[0m \u001b[1;31m#5\u001b[0m\u001b[1;33m\u001b[0m\u001b[1;33m\u001b[0m\u001b[1;33m\u001b[0m\u001b[0m\n\u001b[1;32m----> 2\u001b[1;33m \u001b[0mfile\u001b[0m \u001b[1;33m=\u001b[0m \u001b[0mopen\u001b[0m\u001b[1;33m(\u001b[0m\u001b[1;34m'countries.txt'\u001b[0m\u001b[1;33m,\u001b[0m\u001b[1;34m'r'\u001b[0m\u001b[1;33m)\u001b[0m\u001b[1;33m\u001b[0m\u001b[1;33m\u001b[0m\u001b[0m\n\u001b[0m",
      "\u001b[1;31mFileNotFoundError\u001b[0m: [Errno 2] No such file or directory: 'countries.txt'"
     ]
    }
   ],
   "source": [
    "#5\n",
    "file = open('countries.txt','r')"
   ]
  },
  {
   "cell_type": "markdown",
   "id": "7644d48b",
   "metadata": {},
   "source": [
    "# Question 10 (Python)\n",
    "\n",
    "Encryption is the process of hiding the meaning of a text by substituting letters in the message with other letters, according to some system. If the process is successful, no one but the intended recipient can understand the encrypted message. Cryptanalysis refers to attempts to undo the encryption, even if some details of the encryption are unknown (for example, if an encrypted message has been intercepted). The first step of cryptanalysis is often to build up a table of letter frequencies in the encrypted text. Assume that the string letters is already defined as 'abcdefghijklmnopqrstuvwxyz'. Write a function called frequencies() that takes a string as its only parameter, and returns a list of integers, showing the number of times each character appears in the text. Your function may ignore any characters that are not in letters.\n",
    "\n",
    "    >>> frequencies('The quick red fox got bored and went home.')\n",
    "    \n",
    "    [1, 1, 1, 3, 5, 1, 1, 2, 1, 0, 1, 0, 1, 2, 4, 0, 1, 2, 0, 2, 1, 0, 1, 1, 0, 0]\n",
    "\n",
    "    >>> frequencies('apple')"
   ]
  },
  {
   "cell_type": "code",
   "execution_count": 25,
   "id": "b6f01b19",
   "metadata": {},
   "outputs": [
    {
     "name": "stdout",
     "output_type": "stream",
     "text": [
      "['1', '1', '1', '3', '5', '1', '1', '2', '1', '0', '1', '0', '1', '2', '4', '0', '1', '2', '0', '2', '1', '0', '1', '1', '0', '0']\n",
      "['1', '0', '0', '0', '1', '0', '0', '0', '0', '0', '0', '1', '0', '0', '0', '2', '0', '0', '0', '0', '0', '0', '0', '0', '0', '0']\n"
     ]
    }
   ],
   "source": [
    "def frequencies(line):\n",
    "    frequenciesofline = []\n",
    "    string = 'abcdefghijklmnopqrstuvwxyz'\n",
    "    for each in string:\n",
    "        string_count = (line.count(each))\n",
    "        frequenciesofline +=  str(string_count)\n",
    "    print(frequenciesofline)\n",
    "    \n",
    "frequencies('The quick red fox got bored and went home.')\n",
    "frequencies('apple')"
   ]
  },
  {
   "cell_type": "markdown",
   "id": "7ab1dd9d",
   "metadata": {},
   "source": [
    "# References\n",
    "\n",
    "https://www.w3schools.com/python/python_file_open.asp\n",
    "\n",
    "https://www.geeksforgeeks.org/print-characters-frequencies-order-occurrence/\n",
    "\n",
    "https://forum.freecodecamp.org/t/freecodecamp-challenge-guide-pig-latin/16039"
   ]
  }
 ],
 "metadata": {
  "kernelspec": {
   "display_name": "Python 3",
   "language": "python",
   "name": "python3"
  },
  "language_info": {
   "codemirror_mode": {
    "name": "ipython",
    "version": 3
   },
   "file_extension": ".py",
   "mimetype": "text/x-python",
   "name": "python",
   "nbconvert_exporter": "python",
   "pygments_lexer": "ipython3",
   "version": "3.8.8"
  }
 },
 "nbformat": 4,
 "nbformat_minor": 5
}
